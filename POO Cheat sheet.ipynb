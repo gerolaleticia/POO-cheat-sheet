{
 "cells": [
  {
   "cell_type": "code",
   "execution_count": 23,
   "metadata": {},
   "outputs": [],
   "source": [
    "class Dog:\n",
    "    # initializier for instance attributes\n",
    "    def __init__(self, name, age):\n",
    "        self.name = name\n",
    "        self.age = age\n",
    "        \n",
    "    # class atribute\n",
    "    species = 'mamal'"
   ]
  },
  {
   "cell_type": "code",
   "execution_count": 24,
   "metadata": {},
   "outputs": [],
   "source": [
    "# Instantiate the Dog object\n",
    "poodle = Dog('guti', 4)\n",
    "salsicha = Dog('july', 13)"
   ]
  },
  {
   "cell_type": "code",
   "execution_count": 25,
   "metadata": {},
   "outputs": [
    {
     "name": "stdout",
     "output_type": "stream",
     "text": [
      "guti is a dog with 4 years old\n"
     ]
    }
   ],
   "source": [
    "# Acess the instance atributions\n",
    "print(f'{poodle.name} is a dog with {poodle.age} years old')"
   ]
  },
  {
   "cell_type": "code",
   "execution_count": 27,
   "metadata": {},
   "outputs": [
    {
     "name": "stdout",
     "output_type": "stream",
     "text": [
      "guti is a mamal\n"
     ]
    }
   ],
   "source": [
    "# is poodle a mamal?\n",
    "if poodle.species == 'mamal':\n",
    "    print(f'{poodle.name} is a {poodle.species}')"
   ]
  },
  {
   "cell_type": "code",
   "execution_count": null,
   "metadata": {},
   "outputs": [],
   "source": [
    "# what happened?\n",
    "'''We created a new instance of the Dog() class and assigned it to the variable poodle. \n",
    "We then passed it two arguments, \"Guti\" and 4, which represent that dog’s name and age, respectively.\n",
    "'''"
   ]
  },
  {
   "cell_type": "code",
   "execution_count": 28,
   "metadata": {},
   "outputs": [],
   "source": [
    "# Review exercises: the oldest dog\n",
    "golden = Dog('nero', 7)\n",
    "beagle = Dog('bingo', 10)\n",
    "lessie = Dog('linda', 12)"
   ]
  },
  {
   "cell_type": "code",
   "execution_count": 30,
   "metadata": {},
   "outputs": [],
   "source": [
    "def get_biggest_number(arg1,arg2,arg3):\n",
    "    if golden.age > beagle.age and golden.age > lessie.age:\n",
    "        print(f'The oldest dog is {golden.name} with {golden.age} years old.')\n",
    "    if beagle.age > golden.age and beagle.age > lessie.age:\n",
    "        print(f'The oldest dog is{beagle.name} with {beagle.age} years old.')\n",
    "    else:\n",
    "        print(f'The oldest dog is {lessie.name} with {lessie.age} years old.')"
   ]
  },
  {
   "cell_type": "code",
   "execution_count": 31,
   "metadata": {},
   "outputs": [
    {
     "name": "stdout",
     "output_type": "stream",
     "text": [
      "The oldest dog is linda with 12 years old.\n"
     ]
    }
   ],
   "source": [
    "get_biggest_number(golden,beagle,lessie)"
   ]
  },
  {
   "cell_type": "code",
   "execution_count": 34,
   "metadata": {},
   "outputs": [
    {
     "name": "stdout",
     "output_type": "stream",
     "text": [
      "The oldest dog is 12 years old.\n"
     ]
    }
   ],
   "source": [
    "# another solution:\n",
    "def get_biggest_number(*args):\n",
    "    return max(args)\n",
    "\n",
    "print(f'The oldest dog is {get_biggest_number(golden.age, beagle.age, lessie.age)} years old.')"
   ]
  },
  {
   "cell_type": "markdown",
   "metadata": {},
   "source": [
    "### Instance methods\n",
    "Instance methods are defined inside a class and are used to get the contents of an instance. They can also be used to perform operations with the attributes of our objects. Like the __init__ method, the first argument is always self:"
   ]
  },
  {
   "cell_type": "code",
   "execution_count": 35,
   "metadata": {},
   "outputs": [],
   "source": [
    "class Dog:\n",
    "    # class atribute\n",
    "    species = 'mamal'\n",
    "    \n",
    "    # initializier for instance attributes (always start with self)\n",
    "    def __init__(self, name, age):\n",
    "        self.name = name\n",
    "        self.age = age\n",
    "        \n",
    "    # instance method\n",
    "    def description(self):\n",
    "        return(f'{self.name} is {self.age} years old.')\n",
    "    \n",
    "    # instance method\n",
    "    def speak(self, sound):\n",
    "        return(f'{self.name} makes the sound {sound}.')\n",
    "\n",
    "    # we can have as many methods we want"
   ]
  },
  {
   "cell_type": "code",
   "execution_count": 36,
   "metadata": {},
   "outputs": [
    {
     "name": "stdout",
     "output_type": "stream",
     "text": [
      "mike is 10 years old.\n",
      "mike makes the sound au au\n"
     ]
    }
   ],
   "source": [
    "# Instnaciate dog object (atributing parameters of init function)\n",
    "mike = Dog('mike', 10)\n",
    "\n",
    "# call our instance methods\n",
    "print(mike.description())\n",
    "print(mike.speak('au au'))"
   ]
  },
  {
   "cell_type": "code",
   "execution_count": 39,
   "metadata": {},
   "outputs": [],
   "source": [
    "# Boolean Class\n",
    "class Email:\n",
    "    def __init__(self):\n",
    "        self.is_sent = False\n",
    "        \n",
    "    # method\n",
    "    def send_email(self):\n",
    "        self.is_sent = True\n",
    "    "
   ]
  },
  {
   "cell_type": "code",
   "execution_count": 40,
   "metadata": {},
   "outputs": [
    {
     "data": {
      "text/plain": [
       "False"
      ]
     },
     "execution_count": 40,
     "metadata": {},
     "output_type": "execute_result"
    }
   ],
   "source": [
    "my_email = Email() # calling the class\n",
    "my_email.is_sent # returns __init__ atributes"
   ]
  },
  {
   "cell_type": "code",
   "execution_count": 42,
   "metadata": {},
   "outputs": [
    {
     "data": {
      "text/plain": [
       "True"
      ]
     },
     "execution_count": 42,
     "metadata": {},
     "output_type": "execute_result"
    }
   ],
   "source": [
    "my_email.send_email() # calling method\n",
    "my_email.is_sent # return is sent from method, not __init__"
   ]
  },
  {
   "cell_type": "markdown",
   "metadata": {},
   "source": [
    "### Python Object Inheritance\n",
    "Inheritance is the process by which one class takes on the attributes and methods of another. Newly formed classes are called child classes, and the classes that child classes are derived from are called parent classes.\n",
    "\n",
    "It’s important to note that child classes override or extend the functionality (e.g., attributes and behaviors) of parent classes. In other words, child classes inherit all of the parent’s attributes and behaviors but can also specify different behavior to follow. The most basic type of class is an object, which generally all other classes inherit as their parent."
   ]
  },
  {
   "cell_type": "markdown",
   "metadata": {},
   "source": [
    "### Dog Park Example\n",
    "Let’s pretend that we’re at a dog park. There are multiple Dog objects engaging in Dog behaviors, each with different attributes. In regular-speak that means some dogs are running, while some are stretching and some are just watching other dogs. Furthermore, each dog has been named by its owner and, since each dog is living and breathing, each ages."
   ]
  },
  {
   "cell_type": "code",
   "execution_count": null,
   "metadata": {},
   "outputs": [],
   "source": [
    "class Dog:\n",
    "...     def __init__(self, breed):\n",
    "...         self.breed = breed"
   ]
  },
  {
   "cell_type": "code",
   "execution_count": null,
   "metadata": {},
   "outputs": [],
   "source": [
    "spencer = Dog(\"German Shepard\")\n",
    "spencer.breed\n",
    "\n",
    "sara = Dog(\"Boston Terrier\")\n",
    "sara.breed\n",
    "\n",
    "#Each breed of dog has slightly different behaviors. To take these into account, \n",
    "# let’s create separate classes for each breed. These are child classes of the parent Dog class."
   ]
  },
  {
   "cell_type": "code",
   "execution_count": 10,
   "metadata": {},
   "outputs": [],
   "source": [
    "# Parent Class\n",
    "\n",
    "class Dog:\n",
    "    def __init__(self, name, age):\n",
    "        self.name = name\n",
    "        self.age = age\n",
    "        \n",
    "    # instance method\n",
    "    def description(self):\n",
    "        return \"{} is {} years old\".format(self.name, self.age)\n",
    "\n",
    "    # instance method\n",
    "    def speak(self, sound):\n",
    "        return \"{} says {}\".format(self.name, sound)\n",
    "        \n",
    "# Child class (inherited from Dog Class)\n",
    "\n",
    "class BuldogTerrier(Dog): # mother class goes inside the parenthesis)\n",
    "    def run(self, speed):\n",
    "        return(f'{self.name} runs {speed}.') # self refers to sekfs from mother class, than we can add new variables as 'speed'\n",
    "    "
   ]
  },
  {
   "cell_type": "code",
   "execution_count": 11,
   "metadata": {},
   "outputs": [
    {
     "name": "stdout",
     "output_type": "stream",
     "text": [
      "Jim is 12 years old\n"
     ]
    }
   ],
   "source": [
    "# calling child class inherited atributs\n",
    "jim = BuldogTerrier('Jim', 12)\n",
    "print(jim.description())"
   ]
  },
  {
   "cell_type": "code",
   "execution_count": 12,
   "metadata": {},
   "outputs": [
    {
     "name": "stdout",
     "output_type": "stream",
     "text": [
      "Jim runs at fast.\n"
     ]
    }
   ],
   "source": [
    "# calling child class own attributes\n",
    "print(jim.run('fast'))"
   ]
  },
  {
   "cell_type": "code",
   "execution_count": 13,
   "metadata": {},
   "outputs": [
    {
     "name": "stdout",
     "output_type": "stream",
     "text": [
      "True\n"
     ]
    }
   ],
   "source": [
    "# Is jim an instance of Dog()? Function isistance() can tell\n",
    "print(isinstance(jim, Dog))"
   ]
  },
  {
   "cell_type": "markdown",
   "metadata": {},
   "source": [
    "### Exercícios "
   ]
  },
  {
   "cell_type": "code",
   "execution_count": 30,
   "metadata": {},
   "outputs": [
    {
     "name": "stdout",
     "output_type": "stream",
     "text": [
      "I have 3 dogs.\n",
      "Tom is 6.\n",
      "Fletcher is 7.\n",
      "Larry is 9.\n",
      "And they are all mammals, of course.\n",
      "My dogs are all hungry now!\n"
     ]
    }
   ],
   "source": [
    "# Parent class\n",
    "class Pets:\n",
    "\n",
    "    dogs = []\n",
    "\n",
    "    def __init__(self, dogs):\n",
    "        self.dogs = dogs\n",
    "\n",
    "# Parent class\n",
    "class Dog:\n",
    "\n",
    "    # Class attribute\n",
    "    species = 'mammal'\n",
    "\n",
    "    # Initializer / Instance attributes\n",
    "    def __init__(self, name, age):\n",
    "        self.name = name\n",
    "        self.age = age\n",
    "\n",
    "    # instance method\n",
    "    def description(self):\n",
    "        return \"{} is {} years old\".format(self.name, self.age)\n",
    "\n",
    "    # instance method\n",
    "    def speak(self, sound):\n",
    "        return \"{} says {}\".format(self.name, sound)\n",
    "    \n",
    "    class RussellTerrier(Dog):\n",
    "        def run(self, speed):\n",
    "            return \"%s runs %s\" % (self.name, speed)\n",
    "\n",
    "\n",
    "    # Child class (inherits from Dog class)\n",
    "    class Bulldog(Dog):\n",
    "        def run(self, speed):\n",
    "            return \"%s runs %s\" % (self.name, speed)\n",
    "\n",
    "    # Create instances of dogs\n",
    "    my_dogs = [\n",
    "        Bulldog(\"Tom\", 6), \n",
    "        RussellTerrier(\"Fletcher\", 7), \n",
    "        Dog(\"Larry\", 9)\n",
    "    ]\n",
    "    \n",
    "    # Instance is_hungry\n",
    "    is_hungry = True\n",
    "    def eat(self):\n",
    "        self.is_hungry = False\n",
    "\n",
    "    # Instantiate the Pets class (my_pets gets the list my_dogs in class Pets)\n",
    "    my_pets = Pets(my_dogs)\n",
    "\n",
    "    # Output\n",
    "    print(f'I have {len(my_pets.dogs)} dogs.')\n",
    "    for dog in my_pets.dogs:\n",
    "        print(f'{dog.name} is {dog.age}.')\n",
    "\n",
    "    print(f'And they are all {dog.species}s, of course.')\n",
    "    \n",
    "    if is_hungry == True:\n",
    "        print(f'My dogs are all hungry now!')\n",
    "    else:\n",
    "        print(f'My dogs are not hungry now!')"
   ]
  },
  {
   "cell_type": "code",
   "execution_count": null,
   "metadata": {},
   "outputs": [],
   "source": [
    "# Parent class\n",
    "class Pets:\n",
    "\n",
    "    dogs = []\n",
    "\n",
    "    def __init__(self, dogs):\n",
    "        self.dogs = dogs\n",
    "\n",
    "    def walk(self):\n",
    "        for dog in self.dogs:\n",
    "            print(dog.walk())\n",
    "\n",
    "\n",
    "# Parent class\n",
    "class Dog:\n",
    "\n",
    "    # Class attribute\n",
    "    species = 'mammal'\n",
    "    is_hungry = True\n",
    "\n",
    "    # Initializer / instance attributes\n",
    "    def __init__(self, name, age):\n",
    "        self.name = name\n",
    "        self.age = age\n",
    "\n",
    "    # Instance method\n",
    "    def description(self):\n",
    "        return self.name, self.age\n",
    "\n",
    "    # Instance method\n",
    "    def speak(self, sound):\n",
    "        return \"%s says %s\" % (self.name, sound)\n",
    "\n",
    "    # Instance method\n",
    "    def eat(self):\n",
    "        self.is_hungry = False\n",
    "\n",
    "    def walk(self):\n",
    "        return \"%s is walking!\" % (self.name)\n",
    "\n",
    "\n",
    "# Child class (inherits from Dog class)\n",
    "class RussellTerrier(Dog):\n",
    "    def run(self, speed):\n",
    "        return \"%s runs %s\" % (self.name, speed)\n",
    "\n",
    "\n",
    "# Child class (inherits from Dog class)\n",
    "class Bulldog(Dog):\n",
    "    def run(self, speed):\n",
    "        return \"%s runs %s\" % (self.name, speed)\n",
    "\n",
    "# Create instances of dogs\n",
    "my_dogs = [\n",
    "    Bulldog(\"Tom\", 6), \n",
    "    RussellTerrier(\"Fletcher\", 7), \n",
    "    Dog(\"Larry\", 9)\n",
    "]\n",
    "\n",
    "# Instantiate the Pet class\n",
    "my_pets = Pets(my_dogs)\n",
    "\n",
    "# Output\n",
    "my_pets.walk()"
   ]
  },
  {
   "cell_type": "markdown",
   "metadata": {},
   "source": [
    "### Dictionary\n",
    "1. Class: a class is a mechanism used to create new user-defined data structures. It contains data as well as the methods used to process that data. Syntax: class PythonClassName:\n",
    "\n",
    "2. Instance: an instance is a copy of the class with actual values, literally an object of a specific class. How do you instantiate: you use the class name, followed by parentheses. So if the class name is Dog(), an dog instance would be - my_class = Dog().\n",
    "\n",
    "3. Method: is a function that’s defined inside a class.\n",
    "\n",
    "4. What is the self: the first argument of every method references the current instance of the class, which by convention, is named self.\n",
    "\n",
    "5. Child classes: child classes inherit all of the parent’s attributes and behaviors and helps prevent code duplication."
   ]
  }
 ],
 "metadata": {
  "kernelspec": {
   "display_name": "Python 3",
   "language": "python",
   "name": "python3"
  },
  "language_info": {
   "codemirror_mode": {
    "name": "ipython",
    "version": 3
   },
   "file_extension": ".py",
   "mimetype": "text/x-python",
   "name": "python",
   "nbconvert_exporter": "python",
   "pygments_lexer": "ipython3",
   "version": "3.8.0"
  }
 },
 "nbformat": 4,
 "nbformat_minor": 4
}
